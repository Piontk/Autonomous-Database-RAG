{
  "nbformat": 4,
  "nbformat_minor": 0,
  "metadata": {
    "colab": {
      "provenance": [],
      "authorship_tag": "ABX9TyOTD3ntpt0SECxleOrLCWKX",
      "include_colab_link": true
    },
    "kernelspec": {
      "name": "python3",
      "display_name": "Python 3"
    },
    "language_info": {
      "name": "python"
    }
  },
  "cells": [
    {
      "cell_type": "markdown",
      "metadata": {
        "id": "view-in-github",
        "colab_type": "text"
      },
      "source": [
        "<a href=\"https://colab.research.google.com/github/Piontk/Autonomous-Database-RAG/blob/main/Sobre_RAG_e_Vector_Stores_na_Pr%C3%A1tica_com_Autonomous_Database.ipynb\" target=\"_parent\"><img src=\"https://colab.research.google.com/assets/colab-badge.svg\" alt=\"Open In Colab\"/></a>"
      ]
    },
    {
      "cell_type": "code",
      "execution_count": null,
      "metadata": {
        "collapsed": true,
        "id": "dXnnq4HXV9jP"
      },
      "outputs": [],
      "source": [
        "!pip install langchain langchain-community langchain-openai langchain-oracledb pypdf oracledb python-dotenv\n"
      ]
    },
    {
      "cell_type": "code",
      "source": [
        "from langchain_community.document_loaders import PyPDFLoader\n",
        "from langchain.text_splitter import RecursiveCharacterTextSplitter\n",
        "from langchain_openai import OpenAIEmbeddings\n",
        "from langchain_core.output_parsers import StrOutputParser\n",
        "from langchain_core.prompts import ChatPromptTemplate\n",
        "from langchain_core.runnables import RunnablePassthrough\n",
        "from langchain_openai import ChatOpenAI\n",
        "from langchain_oracledb.vectorstores.oraclevs import OracleVS\n",
        "from dotenv import load_dotenv\n",
        "import oracledb\n",
        "\n",
        "load_dotenv()\n",
        "DB_USER = os.getenv(\"DB_USER\")\n",
        "DB_PASSWORD = os.getenv(\"DB_PASSWORD\")\n",
        "CONNECT_STRING = os.getenv(\"CONNECT_STRING\")\n",
        "WALLET_PASSWORD = os.getenv(\"WALLET_PASSWORD\")\n",
        "\n",
        "OPENAI_API_KEY = os.getenv(\"OPENAI_API_KEY\")\n",
        "\n",
        "def ingest_pdf(pdf_folder_path: str) -> list:\n",
        "    \"\"\"\n",
        "    Lê todos os PDFs em um diretório e os divide em chunks.\n",
        "    \"\"\"\n",
        "    all_docs = []\n",
        "    print(f\"Lendo PDFs do diretório: {pdf_folder_path}\")\n",
        "    for filename in os.listdir(pdf_folder_path):\n",
        "        if filename.endswith(\".pdf\"):\n",
        "            file_path = os.path.join(pdf_folder_path, filename)\n",
        "            try:\n",
        "                loader = PyPDFLoader(file_path)\n",
        "                documents = loader.load()\n",
        "                all_docs.extend(documents)\n",
        "                print(f\"  - Carregado: {filename} ({len(documents)} páginas)\")\n",
        "            except Exception as e:\n",
        "                print(f\"Erro ao carregar o arquivo {filename}: {e}\")\n",
        "\n",
        "    if not all_docs:\n",
        "        print(\"Nenhum documento PDF encontrado para processar.\")\n",
        "        return\n",
        "\n",
        "    # Dividir os documentos em chunks. Esta é a parte crucial para manter o contexto.\n",
        "    # O splitter tenta manter parágrafos e sentenças juntos.\n",
        "    text_splitter = RecursiveCharacterTextSplitter(\n",
        "        chunk_size=1500,  # Tamanho do chunk\n",
        "        chunk_overlap=600 # Sobreposição para não perder contexto entre chunks\n",
        "    )\n",
        "    chunks = text_splitter.split_documents(all_docs)\n",
        "    print(f\"\\nTotal de documentos dividido em {len(chunks)} chunks para armazenamento.\")\n",
        "\n",
        "    return chunks\n",
        "\n",
        "def get_vector_database() -> OracleVS:\n",
        "    \"\"\"Cria e retorna o objeto Oracle Vector Store.\"\"\"\n",
        "    try:\n",
        "        connection = oracledb.connect(user=DB_USER,\n",
        "                              password=DB_PASSWORD,\n",
        "                              dsn=CONNECT_STRING,\n",
        "                              config_dir=\"/content/wallet\",\n",
        "                              wallet_location=\"/content/wallet\",\n",
        "                              wallet_password=WALLET_PASSWORD )\n",
        "        print(\"Connection successful!\")\n",
        "    except Exception as e:\n",
        "        print(\"Connection failed!\")\n",
        "\n",
        "    TABLE_NAME = \"ORACLE_DOCS\"\n",
        "\n",
        "    embeddings = OpenAIEmbeddings(api_key=OPENAI_API_KEY)\n",
        "\n",
        "    oraclevs = OracleVS(\n",
        "        client=connection,\n",
        "        table_name=TABLE_NAME,\n",
        "        embedding_function=embeddings,\n",
        "    )\n",
        "\n",
        "    return oraclevs\n",
        "\n",
        "def ingest_pdf_chunks(chunks: list):\n",
        "    \"\"\"\n",
        "    Insere os chunks de texto no vector store.\n",
        "    \"\"\"\n",
        "    if not chunks:\n",
        "        print(\"Nenhum chunk para processar.\")\n",
        "        return\n",
        "\n",
        "    print(f\"Inserindo {len(chunks)} chunks na Vector Store...\")\n",
        "\n",
        "    # Obter a vector store e adiciona os chunks\n",
        "    vector_store = get_vector_database()\n",
        "\n",
        "    print(\"Iniciando a inserção dos chunks na Vector Store (pode levar alguns minutos)...\")\n",
        "    vector_store.add_documents(chunks)\n",
        "\n",
        "    print(\"\\nIngestão de PDFs concluída com sucesso!\")\n",
        "\n",
        "def create_analysis_chain():\n",
        "    \"\"\"\n",
        "    Cria a cadeia de processamento (RAG chain) para analisar o AWR.\n",
        "    \"\"\"\n",
        "    vector_store = get_vector_database()\n",
        "    retriever = vector_store.as_retriever(search_kwargs={\"k\": 5}) # Busca os 5 chunks mais relevantes\n",
        "\n",
        "    llm = ChatOpenAI(model_name=\"gpt-4o\", temperature=0.2, api_key=OPENAI_API_KEY)\n",
        "\n",
        "    # Este é o prompt que guiará o modelo. É a parte mais importante para a qualidade da resposta.\n",
        "    template = \"\"\"\n",
        "    Você é um assistente especialista em Oracle Database.\n",
        "    Seu papel é responder perguntas técnicas sobre Oracle de forma clara, precisa e fundamentada.\n",
        "    Você tem acesso a uma base de conhecimento contendo documentações oficiais da Oracle.\n",
        "\n",
        "    INSTRUÇÕES:\n",
        "    1. Sempre baseie suas respostas nas documentações Oracle recuperadas do contexto fornecido.\n",
        "    2. Responda em português técnico e direto, mas explique termos quando necessário.\n",
        "    3. Se houver código SQL, PL/SQL ou comandos administrativos, use a sintaxe do Oracle 23ai (ou a versão mencionada no contexto).\n",
        "    4. Quando a resposta envolver opções, explique prós e contras brevemente.\n",
        "    5. Se o contexto recuperado não contiver informação suficiente, diga claramente:\n",
        "       \"Não encontrei essa informação na documentação disponível.\"\n",
        "    6. Não invente comandos ou recursos que não existem.\n",
        "\n",
        "    FORMATO DA RESPOSTA:\n",
        "    - **Explicação resumida** da resposta.\n",
        "    - **Detalhamento técnico** com base na documentação recuperada.\n",
        "    - **Exemplo prático** (quando aplicável).\n",
        "\n",
        "    CONTEXTOS DISPONÍVEIS:\n",
        "    {context}\n",
        "\n",
        "    PERGUNTA DO USUÁRIO:\n",
        "    {question}\n",
        "\n",
        "    RESPOSTA:\n",
        "    \"\"\"\n",
        "\n",
        "    prompt = ChatPromptTemplate.from_template(template)\n",
        "\n",
        "    # Cria a RAG chain usando o LangChain Expression Language (LCEL)\n",
        "    rag_chain = (\n",
        "        {\"context\": retriever, \"question\": RunnablePassthrough()}\n",
        "        | prompt\n",
        "        | llm\n",
        "        | StrOutputParser()\n",
        "    )\n",
        "\n",
        "    return rag_chain"
      ],
      "metadata": {
        "id": "jLm1GtWjWa8S"
      },
      "execution_count": 3,
      "outputs": []
    },
    {
      "cell_type": "code",
      "source": [
        "chunks = ingest_pdf('/content/pdfs')"
      ],
      "metadata": {
        "colab": {
          "base_uri": "https://localhost:8080/"
        },
        "id": "cRW-dMu_XHEF",
        "outputId": "c1d71bcf-c50d-4001-c5ca-adcf4f132aef"
      },
      "execution_count": 4,
      "outputs": [
        {
          "output_type": "stream",
          "name": "stdout",
          "text": [
            "Lendo PDFs do diretório: /content/pdfs\n",
            "  - Carregado: database-development-guide.pdf (1013 páginas)\n",
            "  - Carregado: database-security-guide.pdf (1188 páginas)\n",
            "\n",
            "Total de documentos dividido em 4896 chunks para armazenamento.\n"
          ]
        }
      ]
    },
    {
      "cell_type": "code",
      "source": [
        "chunks[3643]"
      ],
      "metadata": {
        "colab": {
          "base_uri": "https://localhost:8080/"
        },
        "id": "gfc8Ejr-em4C",
        "outputId": "3467e251-e292-477e-9983-54f3eaaf9aba"
      },
      "execution_count": 14,
      "outputs": [
        {
          "output_type": "execute_result",
          "data": {
            "text/plain": [
              "Document(metadata={'producer': 'Antenna House PDF Output Library 7.0.1574', 'creator': 'AH XSL Formatter V7.0 MR1 for Linux64 : 7.0.2.44154 (2020-04-06T11:51+09)', 'creationdate': '2025-07-16T15:24:50-08:00', 'author': 'Patricia HueySuraj AdhikariTammy BednarJi-Won ByunYuechen ChenNishant ChaudharyRajnish ChitkaraChi Ching ChuiAngeline DhanaraniNaveen GopalRishabh GuptaYong HuDana JolySrinidhi KayoorPeter KnaggsImran M. KhanSanjay KulhariAnup A. KumarScott McKinleyMisaki MiyashitaHari MohankumarGopal MulagundAbhishek MunnolimathMarudha Sudharshan RKumar RajamaniVipin SamarSaravana SoundararajanAnkit SrivastavaSiu TamLuna TanRuchi TayalKamal TbeilehRohit ThatteCan TuzlaAnand VermaAlan WilliamsPeter WahlJinglei XieDeepak YadavQuan Yang', 'moddate': '2025-07-16T15:24:50-08:00', 'title': 'Security Guide', 'trapped': '/False', 'source': '/content/pdfs/database-security-guide.pdf', 'total_pages': 1188, 'page': 637, 'page_label': '14-47'}, page_content='without an intervening directory service for enterprise user authentication and\\nauthorization to the database. If your Oracle Database is in the cloud, you can\\nalso choose to move to one of the newer integrations with a cloud identity\\nprovider.\\n• Users connecting as One Big Application User. Applications connecting to the\\ndatabase as a single user on behalf of all users can have fine-grained access control for\\neach user. The user for that single session is often called One Big Application User. Within\\nthe context of that session, however, an application developer can create a global\\napplication context attribute to represent the individual application user (for example,\\nREALUSER). Although all database sessions and audit records are created for One Big\\nApplication User, the attributes for each session can vary, depending on who the end user\\nis. This model works best for applications with a limited number of users and no reuse of\\nsessions. The scope of roles and database auditing is diminished because each session is\\ncreated as the same database user.\\n• Web-based applications. Web-based applications typically have hundreds of users. Even\\nwhen there are persistent connections to the database, supporting data retrieval for many\\nuser requests, these connections are not specific to particular Web-based users. Instead,\\nWeb-based applications typically set up and reuse connections, to provide scalability,\\nChapter 14')"
            ]
          },
          "metadata": {},
          "execution_count": 14
        }
      ]
    },
    {
      "cell_type": "code",
      "source": [
        "ingest_pdf_chunks(chunks)"
      ],
      "metadata": {
        "colab": {
          "base_uri": "https://localhost:8080/"
        },
        "id": "rzXl9WPGiOdJ",
        "outputId": "156fe421-598d-45c5-dd0c-c420bdd2c500"
      },
      "execution_count": 15,
      "outputs": [
        {
          "output_type": "stream",
          "name": "stdout",
          "text": [
            "Inserindo 4896 chunks na Vector Store...\n",
            "Connection successful!\n",
            "Iniciando a inserção dos chunks na Vector Store (pode levar alguns minutos)...\n",
            "\n",
            "Ingestão de PDFs concluída com sucesso!\n"
          ]
        }
      ]
    },
    {
      "cell_type": "code",
      "source": [
        "chain = create_analysis_chain()"
      ],
      "metadata": {
        "colab": {
          "base_uri": "https://localhost:8080/"
        },
        "id": "hdz6QFmeoHz1",
        "outputId": "ac93541e-2f40-442a-9bb8-b912a774d2e7"
      },
      "execution_count": 16,
      "outputs": [
        {
          "output_type": "stream",
          "name": "stdout",
          "text": [
            "Connection successful!\n"
          ]
        }
      ]
    },
    {
      "cell_type": "code",
      "source": [
        "pergunta = \"How to grant a role locally?\""
      ],
      "metadata": {
        "id": "UilEBDjwoQP9"
      },
      "execution_count": 17,
      "outputs": []
    },
    {
      "cell_type": "code",
      "source": [
        "resposta = chain.invoke(pergunta)\n",
        "print(resposta)"
      ],
      "metadata": {
        "colab": {
          "base_uri": "https://localhost:8080/"
        },
        "id": "ia0cySveoTn8",
        "outputId": "c7949746-a3ab-4c7d-ad81-e7d708264133"
      },
      "execution_count": 20,
      "outputs": [
        {
          "output_type": "stream",
          "name": "stdout",
          "text": [
            "- **Explicação resumida**: Para conceder um papel (role) localmente em um banco de dados Oracle, você deve usar a cláusula `CONTAINER=CURRENT` no comando `GRANT`. Isso garante que o papel seja concedido apenas no contêiner atual, ou seja, no PDB (Pluggable Database) específico onde o comando é executado.\n",
            "\n",
            "- **Detalhamento técnico**: De acordo com a documentação, para conceder um papel ou privilégio localmente, o usuário que está concedendo deve ter os privilégios necessários. Para privilégios de sistema e papéis, o usuário deve ter a opção `ADMIN OPTION` para o papel ou privilégio que está sendo concedido. A concessão local aplica-se apenas a um contêiner, e a cláusula `CONTAINER=CURRENT` é usada por padrão no comando `GRANT` para indicar que o privilégio ou papel está sendo concedido localmente.\n",
            "\n",
            "- **Exemplo prático**: Suponha que você queira conceder o papel `my_local_role` ao usuário `my_user` no PDB atual. O comando seria:\n",
            "\n",
            "  ```sql\n",
            "  GRANT my_local_role TO my_user CONTAINER=CURRENT;\n",
            "  ```\n",
            "\n",
            "  Este comando garante que o papel `my_local_role` seja concedido apenas no PDB atual, e não em outros contêineres ou no CDB (Container Database) raiz.\n"
          ]
        }
      ]
    },
    {
      "cell_type": "code",
      "source": [
        "from langchain_core.runnables  import RunnableParallel\n",
        "\n",
        "vector_store = get_vector_database()\n",
        "retriever = vector_store.as_retriever(search_kwargs={\"k\": 5})\n",
        "\n",
        "chain_with_refs = RunnableParallel(\n",
        "    answer=chain,\n",
        "    references=retriever\n",
        ")"
      ],
      "metadata": {
        "colab": {
          "base_uri": "https://localhost:8080/"
        },
        "id": "-soIod4Q1Zg9",
        "outputId": "5fb76904-c005-47f8-9f8f-9e59bcdc6a7a"
      },
      "execution_count": 35,
      "outputs": [
        {
          "output_type": "stream",
          "name": "stdout",
          "text": [
            "Connection successful!\n"
          ]
        }
      ]
    },
    {
      "cell_type": "code",
      "source": [
        "res = chain_with_refs.invoke(pergunta)"
      ],
      "metadata": {
        "id": "Ilmbk1Ao1kE2"
      },
      "execution_count": 36,
      "outputs": []
    },
    {
      "cell_type": "code",
      "source": [
        "for i in res['references']:\n",
        "  print(f'PDF: {i.metadata['source']}')\n",
        "  print(f'Página: {i.metadata['page']}')\n",
        "  print(f'Página: {i.metadata['page']}')\n",
        "  print('\\n')"
      ],
      "metadata": {
        "colab": {
          "base_uri": "https://localhost:8080/"
        },
        "id": "bIH9Nldn1lWQ",
        "outputId": "ae0c6d87-b53a-45bb-dbdd-b6556620c514"
      },
      "execution_count": 32,
      "outputs": [
        {
          "output_type": "stream",
          "name": "stdout",
          "text": [
            "PDF: /content/pdfs/database-security-guide.pdf\n",
            "Página: 507\n",
            "\n",
            "\n",
            "PDF: /content/pdfs/database-security-guide.pdf\n",
            "Página: 201\n",
            "\n",
            "\n",
            "PDF: /content/pdfs/database-security-guide.pdf\n",
            "Página: 507\n",
            "\n",
            "\n",
            "PDF: /content/pdfs/database-security-guide.pdf\n",
            "Página: 201\n",
            "\n",
            "\n",
            "PDF: /content/pdfs/database-security-guide.pdf\n",
            "Página: 314\n",
            "\n",
            "\n"
          ]
        }
      ]
    },
    {
      "cell_type": "code",
      "source": [
        "for i in res['references']:\n",
        "  print(f'Conteúdo: {i.page_content}')\n",
        "  print('\\n')"
      ],
      "metadata": {
        "colab": {
          "base_uri": "https://localhost:8080/"
        },
        "id": "2rNwrXFn3xyY",
        "outputId": "9bae0b32-2ea6-429e-bf8f-83b8bb00bdda"
      },
      "execution_count": 34,
      "outputs": [
        {
          "output_type": "stream",
          "name": "stdout",
          "text": [
            "Conteúdo: The Roles page appears.\n",
            "3. Click Create.\n",
            "If prompted, enter your login information. Afterward, the Create Role page appears.\n",
            "4. Select the options that create a local role and grant this role privileges.\n",
            "Ensure that you do not preface the role name with C## or c##.\n",
            "5. Click OK.\n",
            "The local role is created in the current PDB.\n",
            "Related Topics\n",
            "• Logging into a Multitenant Environment in Enterprise Manager\n",
            "You can log in to a CDB or a PDB, and switch from a PDB to a different PDB or to the root.\n",
            "• Granting or Revoking Privileges to Access a PDB\n",
            "You can grant and revoke privileges for PDB access.\n",
            "11.4.6 Editing a Local Role in Enterprise Manager\n",
            "You can edit a local role in the PDB in which the local role resides.\n",
            "1. From the Enterprise Manager database home page, log in to the PDB as a user who has\n",
            "the local CREATE ROLE privilege.\n",
            "2. From the Administration menu, select Security, then Roles.\n",
            "If prompted, enter your login information. Afterward, the Roles page appears, showing only\n",
            "local roles for the current PDB and common roles.\n",
            "3. Select the local role to be edited and then click Edit.\n",
            "The Edit User page appears.\n",
            "4. Modify the local user as necessary.\n",
            "5. Click Apply.\n",
            "Related Topics\n",
            "• Logging into a Multitenant Environment in Enterprise Manager\n",
            "You can log in to a CDB or a PDB, and switch from a PDB to a different PDB or to the root.\n",
            "11.4.7 Dropping a Local Role in Enterprise Manager\n",
            "You can drop local role from the PDB in which the local role resides.\n",
            "\n",
            "\n",
            "Conteúdo: the privileges were\n",
            "granted to the role\n",
            "locally or commonly)\n",
            "Y es\n",
            "Local Role N/A Y es (but privileges in this\n",
            "role are available to the\n",
            "grantee only in the\n",
            "container in which the\n",
            "role was granted and\n",
            "created)\n",
            "Y es\n",
            "Privilege N/A Y es N/A\n",
            "4.2.4 What Makes a Privilege or Role Grant Local\n",
            "To grant a role or privilege locally, use the GRANT statement with the CONTAINER=CURRENT\n",
            "clause, which is the default.\n",
            "Specifically, a role or privilege is granted locally only when the following criteria are met:\n",
            "• The grantor has the necessary privileges to grant the specified role or privileges.\n",
            "For system privileges and roles, the grantor must have the ADMIN OPTION for the role or\n",
            "privilege being granted. For object privileges, the grantor must have the GRANT OPTION for\n",
            "the privilege being granted.\n",
            "• The grant applies to only one container.\n",
            "By default, the GRANT statement includes the CONTAINER=CURRENT clause, which indicates\n",
            "that the privilege or role is granted locally.\n",
            "Chapter 4\n",
            "Privilege and Role Grants in a CDB\n",
            "4-3\n",
            "\n",
            "\n",
            "Conteúdo: If prompted, enter your login information. Afterward, the Roles page appears, showing only\n",
            "local roles for the current PDB and common roles.\n",
            "3. Select the local role to be edited and then click Edit.\n",
            "The Edit User page appears.\n",
            "4. Modify the local user as necessary.\n",
            "5. Click Apply.\n",
            "Related Topics\n",
            "• Logging into a Multitenant Environment in Enterprise Manager\n",
            "You can log in to a CDB or a PDB, and switch from a PDB to a different PDB or to the root.\n",
            "11.4.7 Dropping a Local Role in Enterprise Manager\n",
            "You can drop local role from the PDB in which the local role resides.\n",
            "1. From the Enterprise Manager database home page, log in to the PDB as a user who has\n",
            "the local CREATE ROLE privilege.\n",
            "2. From the Administration menu, select Security, then Role.\n",
            "If prompted, enter your login information. Afterward, the Roles page appears, showing only\n",
            "local roles for the current PDB and common roles. (You cannot drop common roles from a\n",
            "PDB.)\n",
            "3. Select the local role you want to drop and then click Delete.\n",
            "Enterprise Manager prompts you to confirm deletion of the role.\n",
            "4. Confirm that you want to delete the local role.\n",
            "Chapter 11\n",
            "Managing Common and Local Roles and Privileges in Enterprise Manager\n",
            "11-9\n",
            "\n",
            "\n",
            "Conteúdo: Local users, roles, and privileges are restricted to a particular PDB. Thus, local users may not\n",
            "grant roles and privileges commonly, and local roles and privileges may not be granted\n",
            "commonly.\n",
            "The following sections describe the implications of the preceding principles.\n",
            "4.2.3 Privileges and Roles Granted Locally in a CDB\n",
            "Roles and privileges may be granted locally to users and roles regardless of whether the\n",
            "grantees, grantors, or roles being granted are local or common.\n",
            "The following table explains the valid possibilities for locally granted roles and privileges.\n",
            "Table 4-1    Local Grants\n",
            "Phenomenon May Grant Locally May Be Granted\n",
            "Locally\n",
            "May Receive a Role or\n",
            "Privilege Granted\n",
            "Locally\n",
            "Common User Y es N/A Y es\n",
            "Local User Y es N/A Y es\n",
            "Common Role N/A Y es (but privileges in this\n",
            "role are available to the\n",
            "grantee only in the\n",
            "container in which the\n",
            "role was granted,\n",
            "regardless of whether\n",
            "the privileges were\n",
            "granted to the role\n",
            "locally or commonly)\n",
            "Y es\n",
            "Local Role N/A Y es (but privileges in this\n",
            "role are available to the\n",
            "grantee only in the\n",
            "container in which the\n",
            "role was granted and\n",
            "created)\n",
            "Y es\n",
            "Privilege N/A Y es N/A\n",
            "4.2.4 What Makes a Privilege or Role Grant Local\n",
            "To grant a role or privilege locally, use the GRANT statement with the CONTAINER=CURRENT\n",
            "clause, which is the default.\n",
            "Specifically, a role or privilege is granted locally only when the following criteria are met:\n",
            "• The grantor has the necessary privileges to grant the specified role or privileges.\n",
            "\n",
            "\n",
            "Conteúdo: 3. On the Create Role page, provide the following details, and then click OK:\n",
            "• Select the policy from which you would like to create a new role.\n",
            "• Enter a unique name for the new role that you want to create.\n",
            "• Select the Used or Unused check box, depending on what your role must\n",
            "encapsulate. The role can have used or unused system and object privileges and\n",
            "roles.\n",
            "• Select the corresponding radio buttons for Directly Granted System Privileges,\n",
            "Directly Granted Object Privileges, and Directly Granted Roles.\n",
            "For example, if you select the Used check box, and select:\n",
            "– All system privileges, then all the used system privileges captured are included in\n",
            "the new role that you are creating.\n",
            "– None for role, then no role that is captured in the policy will be used in the new\n",
            "role.\n",
            "– Customize object privileges, then a list of available used objects privileges\n",
            "captured are displayed, you need to select the privileges from the list to assign to\n",
            "the role.\n",
            "5.3.2 Revoking and Regranting Roles and Privileges Using Cloud Control\n",
            "You can use Enterprise Manager Cloud Control to revoke and regrant roles and privileges to\n",
            "users.\n",
            "1. If Oracle Database Vault is enabled, then ensure that you are authorized as an owner of\n",
            "the Oracle System Privilege and Role Management realm.\n",
            "In SQL*Plus, a user who has been granted the DV_OWNER role can check the authorization\n",
            "by querying the DBA_DV_REALM_AUTH data dictionary view. To grant the user authorization,\n",
            "use the DBMS_MACADM.ADD_AUTH_TO_REALM procedure.\n",
            "\n",
            "\n"
          ]
        }
      ]
    },
    {
      "cell_type": "code",
      "source": [
        "from langchain_openai import OpenAIEmbeddings\n",
        "\n",
        "embeddings = OpenAIEmbeddings(api_key=OPENAI_API_KEY)\n",
        "vector = embeddings.embed_query(pergunta)\n",
        "\n",
        "print(vector)"
      ],
      "metadata": {
        "colab": {
          "base_uri": "https://localhost:8080/"
        },
        "id": "fwcWQ--q6Ij0",
        "outputId": "0e3f419c-a23b-4954-8c09-65ace4249a40"
      },
      "execution_count": 37,
      "outputs": [
        {
          "output_type": "stream",
          "name": "stdout",
          "text": [
            "[0.0009422260336577892, -0.005045970901846886, -0.0005247567314654589, -0.032615382224321365, -0.030345043167471886, 0.022011231631040573, -0.01940864510834217, 0.01502024196088314, -0.012798354029655457, -0.025416741147637367, 0.031784769147634506, -0.033058375120162964, 0.0036927645560353994, 0.003571633715182543, -0.014964868314564228, 0.0010988310677930713, 0.0207514688372612, -0.015297112986445427, 0.011960819363594055, -0.022246571257710457, -0.01543554849922657, -0.003575094509869814, 0.018882591277360916, -0.0088737104088068, -0.006042705848813057, 0.014826432801783085, 0.011794697493314743, -0.024516912177205086, 0.02311871387064457, -0.007392451167106628, 0.032836880534887314, -0.005758913233876228, -0.005118649452924728, 0.0004016790189780295, -0.010403421707451344, 0.040589261800050735, 0.008949849754571915, -0.006769491825252771, -0.007717774249613285, 0.020350005477666855, 0.014286534860730171, -0.0071086585521698, 0.004301880486309528, -0.04438239336013794, 0.018467284739017487, 0.002308410592377186, -0.034442730247974396, -0.006561838556081057, -0.030760349705815315, 0.0008150385110639036, 0.011386312544345856, 0.00218554912135005, -0.046126678586006165, -0.0042603500187397, -0.028573069721460342, 0.014646466821432114, 0.007953114807605743, 0.011822384782135487, 0.003575094509869814, 0.006724500097334385, -0.0047241086140275, -0.014369595795869827, -0.01088794507086277, -0.01585085503757, -0.0023136017844080925, 0.021305210888385773, -0.013919681310653687, -0.0038035130128264427, -0.0026441162917762995, 0.01648765802383423, 0.04067232459783554, -9.252460586139932e-05, 0.009690479375422001, -0.009565887041389942, 0.0298466756939888, -0.01276374515146017, -0.012625309638679028, 0.009614339098334312, -0.0010702788131311536, 0.0005874852649867535, 0.013012928888201714, -0.0143280653283, -0.04153062403202057, 0.03269844502210617, 0.002175166504457593, -0.002991935471072793, 0.011150972917675972, 0.010465716943144798, -0.029929736629128456, -0.008659135550260544, 0.007032519206404686, 0.009178267791867256, 0.03089878521859646, 0.007738539483398199, 0.0037100689951330423, 0.010874101892113686, -0.014245004393160343, 0.0279916413128376, 0.027908578515052795, -0.03289225324988365, -0.006454551126807928, 0.02753480337560177, -0.026621129363775253, -0.011510904878377914, -0.025915108621120453, -0.027963953092694283, 0.016598405316472054, -0.012749901972711086, 0.028102388605475426, -0.0247245654463768, -0.044714637100696564, 0.009171346202492714, 0.017595140263438225, -0.017692046239972115, -0.011614731512963772, -0.01623847335577011, -0.007697009015828371, -0.027451742440462112, -0.0247245654463768, 0.0033345629926770926, 0.018785685300827026, 0.0009292477043345571, 0.0016283465083688498, -0.018370378762483597, 0.01532480027526617, 0.007496277801692486, 0.024184666574001312, -0.029375994578003883, -0.005499346647411585, -0.026108918711543083, 0.04684654250741005, 0.007177876308560371, 0.011289408430457115, -0.01789969950914383, -0.02043306641280651, 0.02567976899445057, -0.0009249215945601463, 0.01812119595706463, -0.03189551830291748, -0.0165568757802248, 0.015587827190756798, 0.028171606361865997, 0.006222671829164028, -0.003775825956836343, 0.015560140833258629, 0.008562230505049229, 0.00686985719949007, -0.00021295259648468345, 0.0106179965659976, -0.0191179309040308, 0.006984066683799028, 0.020446911454200745, -0.0008319102926179767, -0.027036435902118683, 0.0066933524794876575, 0.016902964562177658, -0.021512864157557487, -0.002031539799645543, -0.014127333648502827, -0.042195115238428116, 0.0067141177132725716, 0.02068225108087063, 0.0174843929708004, 0.011690870858728886, 0.003945409320294857, 0.03336293622851372, 0.017138304188847542, 0.014521874487400055, 0.002713334048166871, 0.016736840829253197, 0.014189629815518856, 0.025790518149733543, -0.02392163872718811, 0.0191179309040308, -0.004952527116984129, -0.0028310043271631002, 0.005547799170017242, 0.004398785065859556, -0.0009958697482943535, 0.006188062950968742, -0.006824865937232971, 0.022468067705631256, -0.008513777516782284, 0.029375994578003883, -0.011953897774219513, -0.010341125540435314, 0.011940054595470428, -0.009981193579733372, 0.0059354184195399284, 0.006572221405804157, -0.011372469365596771, 0.020889904350042343, -0.008596839383244514, -0.008354577235877514, -0.6312654614448547, -0.022080449387431145, 0.01735980063676834, -0.036519262939691544, 0.01614156924188137, 0.008582995273172855, 0.01461877953261137, 0.008333811536431313, -0.029099123552441597, 0.02036384865641594, -0.017567453905940056, 0.0174843929708004, -0.0004676521348301321, -0.03358443081378937, -0.013497453182935715, -0.03275381773710251, 0.013379782438278198, -0.016792215406894684, 0.008569152094423771, 0.007018675561994314, 0.006679508835077286, 0.009725088253617287, -0.007849288173019886, 0.0013185973512008786, 0.013172129169106483, -0.016543032601475716, 0.006395716220140457, -0.030511165037751198, 0.017470549792051315, 0.008652213029563427, 0.0006943400949239731, -0.003073266241699457, 0.006658743601292372, 0.015283269807696342, 0.04634817689657211, 0.004038853105157614, -0.06523076444864273, 0.007070588879287243, -0.04288729280233383, 0.047760218381881714, -0.011144050396978855, 0.01592007279396057, 0.03416585922241211, 0.0115455137565732, -0.017082929611206055, -0.007015214767307043, -0.017373643815517426, -0.006717578507959843, -0.007939270697534084, 0.0021544010378420353, -0.013116755522787571, -0.013172129169106483, 0.022523442283272743, 0.007690087426453829, 0.016612250357866287, -0.021471332758665085, 0.012957554310560226, 0.0005870526656508446, 0.019228678196668625, -0.01090178918093443, -0.0025454810820519924, 0.009925819002091885, -0.022911060601472855, -0.0331137515604496, 0.013040616177022457, -0.007440903689712286, 0.01921483501791954, 0.0006670856382697821, -0.012016193941235542, -0.02046075463294983, 0.009683556854724884, 0.009614339098334312, 0.0020678790751844645, -0.025153715163469315, -0.005000979173928499, 0.01572626270353794, -0.004821013193577528, 0.02206660434603691, 0.0018654172308743, 0.0053159198723733425, -0.009586652740836143, -0.010971006937325, -0.004800247959792614, 0.0011585314059630036, 0.015864698216319084, 0.014452657662332058, -0.0302896685898304, -0.02840694598853588, -0.006610291078686714, 0.029375994578003883, 0.033058375120162964, 0.01848112791776657, 0.0006242571980692446, 0.007883897051215172, 0.006381872575730085, 0.04213973879814148, 0.01420347299426794, -0.015394018031656742, 0.008929084055125713, -0.0016923729563131928, -0.011490139178931713, 0.0014864502009004354, -0.006001175381243229, -0.000936169468332082, 0.030372729524970055, -0.011282485909759998, -0.024613816291093826, -0.002991935471072793, 0.04845239594578743, -0.019131774082779884, 0.015740105882287025, 0.02055765874683857, -0.02292490378022194, 0.021000651642680168, -0.031037218868732452, -0.02113908715546131, 0.006350724492222071, 0.014549561776220798, 0.024572286754846573, -0.012023115530610085, 0.005146336276084185, 0.028683817014098167, 0.030621914193034172, -0.010001958347856998, 0.010548778809607029, 0.030428104102611542, 0.013345173560082912, -0.018564188852906227, 0.008368420414626598, 0.02389395236968994, -0.0026129684410989285, -0.01594775915145874, 0.027617864310741425, -0.011919288896024227, 0.03779286891222, 0.019270209595561028, 0.004800247959792614, 0.0024572284892201424, 0.008880631998181343, 0.017650514841079712, -0.013303643092513084, -0.007641634903848171, 0.0025783595629036427, -0.0002738425391726196, -0.0016292118234559894, -0.020128509029746056, -0.020571501925587654, 0.0007228924077935517, -0.02484915591776371, 0.0040180878713727, -0.00042395846685394645, 0.018979495391249657, -0.003104414092376828, 0.0014596283435821533, -0.0072609372437000275, -0.010147315450012684, -0.01882721669971943, -0.025112183764576912, 0.0027392907068133354, -0.02767323888838291, -0.011912367306649685, 0.008022332563996315, -0.004343410953879356, 0.011116364039480686, -0.018453441560268402, 0.007807757239788771, 0.020322319120168686, 0.014909493736922741, -0.0032688062638044357, -0.02862844429910183, -0.008271516300737858, -0.002893300261348486, -0.018467284739017487, -0.0020332701969891787, 0.004395324271172285, -0.014452657662332058, -0.025416741147637367, -0.010078097693622112, 0.003935026470571756, 0.02638578973710537, 0.0059561836533248425, 0.007316311821341515, 0.0025610551238059998, 0.006215750239789486, 0.01850881427526474, 0.01684758998453617, 0.005360911600291729, 0.040173955261707306, -0.06390178948640823, 0.04025701805949211, -0.0042465063743293285, 0.017429018393158913, 0.011677026748657227, 0.01042418647557497, 0.002903682878240943, 0.02548595890402794, 0.027008749544620514, -0.004118453711271286, 0.003009239910170436, 0.008070784620940685, -0.002079992089420557, 0.008963692933321, 0.04230586066842079, -0.012819119729101658, -0.017664358019828796, -0.006188062950968742, 0.008167689666152, -0.0012199621414765716, 0.016349222511053085, 0.003062883624807, 0.0052951546385884285, -0.010652605444192886, 0.0025247158482670784, -0.0012545709032565355, 0.02667650394141674, 0.02943136915564537, -0.026427321135997772, 0.0028863784391433, 0.00154528534039855, 0.017470549792051315, 0.026496538892388344, 0.003135562175884843, 0.03643620014190674, -0.001712272991426289, -0.018370378762483597, -0.004710264969617128, 0.0036270078271627426, -0.010832571424543858, -0.005502807907760143, -0.03543946519494057, -0.007288624532520771, -0.00798772368580103, -0.004862544126808643, 0.024350788444280624, 0.024364633485674858, -0.021831264719367027, 0.0004486172692850232, -0.01227922085672617, 0.0028275432996451855, -0.018370378762483597, 0.0036097033880650997, 0.007070588879287243, 0.05515266954898834, -0.028130076825618744, 0.009212876670062542, 0.0039073396474123, 0.02840694598853588, -0.00015963333135005087, -0.018148882314562798, 0.024420006200671196, 0.006807561498135328, 0.010507248342037201, -0.008922162465751171, -0.015172521583735943, 0.01636306568980217, 0.012306908145546913, -0.006416481453925371, 0.005855817813426256, 0.008015410043299198, 0.0226065032184124, -0.004516455344855785, 0.040561575442552567, 0.007932349108159542, -0.03519028052687645, 0.0009664522367529571, -0.00285349995829165, -0.004149601329118013, -0.02767323888838291, -0.023866266012191772, -0.017332114279270172, -0.02165129780769348, 0.014951025135815144, 0.014231160283088684, 0.0036719993222504854, 0.019685516133904457, 0.0015227895928546786, 0.003308606334030628, -0.000497069675475359, 0.0076485564932227135, -0.011497060768306255, -0.005883505102247, -0.013144442811608315, 0.05310382321476936, 0.004333028569817543, -0.007697009015828371, -0.02860075607895851, -0.013165207579731941, 0.011836227960884571, 0.015463235788047314, 0.018965652212500572, 0.03715606406331062, 0.02280031330883503, -0.002818891080096364, -0.0028275432996451855, 0.0010945049580186605, -0.015421705320477486, 0.018854903057217598, -0.01320673804730177, 0.0049075353890657425, -0.001335036475211382, -0.015380174852907658, -0.012479952536523342, -0.03316912427544594, -0.03939871862530708, 0.03228313848376274, 0.018425753340125084, 0.011220190674066544, -0.026330415159463882, -0.0029815526213496923, -0.013144442811608315, -0.011296330019831657, -0.010057332925498486, 0.013850463554263115, -0.03604857996106148, 0.009115971624851227, 0.0009794305078685284, -0.023049496114253998, 0.008908319287002087, 0.029348308220505714, 0.0014120412524789572, -0.002692568814381957, -0.03635314106941223, -0.01077719684690237, 0.01592007279396057, 0.03820817545056343, 0.03333524614572525, -0.0149233378469944, 0.013075225055217743, -0.045683685690164566, -0.0093374690040946, -0.0228279996663332, -0.01623847335577011, 0.012832962907850742, 0.0004975022748112679, 0.0098012275993824, -0.0010027915704995394, 0.0037273734342306852, 0.005170562770217657, 0.028766879811882973, 0.0006973684066906571, 0.008202298544347286, -0.027783988043665886, -0.01110944151878357, 0.008430716581642628, 0.02133289724588394, -0.015241739340126514, 0.015933915972709656, 0.021415958181023598, 0.013407469727098942, 0.02068225108087063, 0.01963014155626297, -0.017207521945238113, -0.019934698939323425, -0.009178267791867256, -0.0160723514854908, -0.004686038941144943, 0.009565887041389942, -0.011171737685799599, 0.00320651032961905, 0.02219119668006897, -0.020640719681978226, 0.008458403870463371, -0.012064645998179913, 0.008949849754571915, 0.010043488815426826, 0.016155412420630455, -0.0003655560140032321, -0.018453441560268402, 0.008444560691714287, -0.016321536153554916, -0.002171705476939678, 0.01420347299426794, 0.01626616157591343, -0.016612250357866287, -0.0006610290729440749, -0.007953114807605743, -0.007018675561994314, -0.011365547776222229, 0.0063645681366324425, -0.004744873847812414, 0.007586260791867971, -0.020488440990447998, -0.00832688994705677, -0.015117147006094456, -0.047511033713817596, -0.006243437062948942, 0.017788950353860855, -0.0026579599361866713, -0.0029382917564362288, -0.018564188852906227, -0.02801932767033577, 0.0006259876536205411, -0.017885856330394745, -0.0033207195810973644, 0.005627399776130915, -0.026330415159463882, -0.013594357296824455, -0.00025697072851471603, 0.014300378039479256, 0.0031234489288181067, 0.01238996908068657, 0.004942144267261028, -0.01767820306122303, -0.01969935931265354, -0.015214052051305771, -0.029348308220505714, 0.009898131713271141, -0.011441687121987343, -0.008562230505049229, 0.008929084055125713, -0.012992163188755512, 0.016570718958973885, -0.014674154110252857, -0.0074339816346764565, 0.00297463103197515, 0.024073919281363487, 0.024876844137907028, -0.012189238332211971, 0.009240563958883286, 0.02828235551714897, 0.014411126263439655, 0.037709806114435196, 0.0036927645560353994, -0.00021370967442635447, 0.005326302722096443, -0.03842967003583908, -0.0035145289730280638, -0.00013508267875295132, -0.03004048392176628, -0.02206660434603691, -0.0010339395375922322, -0.006378411781042814, -0.02804701402783394, -0.022564971819519997, 0.0012640883214771748, 0.005578947253525257, 0.011628574691712856, -0.00110921380110085, 0.02289721742272377, -0.0005113458028063178, 0.016210786998271942, 0.025444429367780685, 0.006084236316382885, -0.009025989100337029, 0.016127726063132286, -0.03491340950131416, 0.0207514688372612, 0.02455844171345234, -0.01238996908068657, 0.009953506290912628, 0.00477256067097187, -0.03460885211825371, -0.0014916416257619858, -0.01077719684690237, 0.009898131713271141, 0.014521874487400055, -0.012701448984444141, -0.009967349469661713, -0.020128509029746056, -0.0013601279351860285, 0.007371685933321714, -0.01066644862294197, -0.02626119740307331, -0.028905315324664116, -0.018716467544436455, -0.012251534499228, -0.011670105159282684, -0.01665377989411354, -0.004232662729918957, -0.02267572097480297, -0.022689564153552055, -0.01415502093732357, -0.0014786632964387536, 0.02619197964668274, 0.01090178918093443, 0.0019519393099471927, -0.0282131377607584, -0.0277701448649168, -0.005201710853725672, -0.029791301116347313, 0.007530886679887772, -0.007226328831166029, 0.017110617831349373, 0.005921574775129557, 0.03989708796143532, -0.0057173827663064, 0.0391218475997448, -0.03167402371764183, 0.02199738658964634, -0.008832179009914398, 0.02158208191394806, -0.012909102253615856, 0.015670888125896454, 0.016515344381332397, 0.0076070260256528854, 0.030178919434547424, 0.024392319843173027, 0.003602781565859914, -0.01585085503757, 0.011739322915673256, -0.016293847933411598, -0.015117147006094456, -0.011054067872464657, -0.022564971819519997, -0.0013324408791959286, -0.006447629537433386, -0.038540419191122055, -0.0018446518806740642, -0.03757137060165405, -0.006776413414627314, 0.017858168110251427, 0.0034885723143815994, 0.030345043167471886, -0.021817421540617943, 0.0039627137593925, 8.70628937263973e-05, 0.017082929611206055, 0.004831396043300629, -0.002019426552578807, 0.0034262763801962137, -0.015103303827345371, -0.01245918683707714, 0.011912367306649685, 0.009289016015827656, 0.009891210123896599, -0.012251534499228, -0.005689695477485657, 0.016764529049396515, 0.0021734361071139574, 0.024516912177205086, -0.006167297717183828, 0.004222280345857143, -0.009102128446102142, -0.0020748006645590067, 0.004609899129718542, -0.021540550515055656, 0.0029677092097699642, 0.012680684216320515, -0.004329567775130272, -0.020737625658512115, -0.0034885723143815994, 0.01582316868007183, 0.01969935931265354, -0.0230910275131464, 0.004620281979441643, -0.0024139676243066788, 0.013545905239880085, 0.003519720397889614, -0.007849288173019886, -0.005582408048212528, 0.01662609353661537, -0.002195931738242507, -0.007129423785954714, -0.006208828184753656, -0.018328849226236343, 0.009226720780134201, 0.02318793162703514, -0.0042257411405444145, -0.03150790184736252, 0.0129367895424366, -0.015310957096517086, -0.0072609372437000275, -0.012590700760483742, 0.01684758998453617, 0.008015410043299198, 0.005727765150368214, -0.021083714440464973, 0.007087893318384886, -0.016819903627038002, -0.009732009842991829, 0.027077967301011086, -0.005004440434277058, 0.0023845499381422997, 0.002019426552578807, -0.004398785065859556, 0.015573984012007713, 0.001780625549145043, 0.026330415159463882, 0.011178659275174141, 0.012078490108251572, 0.017955074086785316, 0.0090952068567276, -0.00890139676630497, 0.03571633622050285, -0.010971006937325, 0.007641634903848171, 0.04709572717547417, -0.030428104102611542, -0.015532453544437885, 0.02104218304157257, -0.005613556131720543, -0.020502284169197083, -0.00277043879032135, 0.021568236872553825, 0.006575682200491428, 0.0013255190569907427, 0.004357254598289728, 0.008472247049212456, -0.00027254471206106246, 0.002355132484808564, 0.013628966175019741, 0.00890139676630497, -0.0093167033046484, 0.0002463717828504741, 0.019380958750844002, 0.01975473389029503, -0.027839362621307373, 0.017636671662330627, -0.019062556326389313, -0.006437246687710285, 0.001078931032679975, -0.0063022724352777, -0.012320752255618572, -0.003765443339943886, 0.01838422380387783, -0.013289799913764, -0.0012623579241335392, 0.010874101892113686, 0.0034366592299193144, 0.046957291662693024, 0.024350788444280624, 0.007371685933321714, -0.021637454628944397, 0.026856470853090286, 0.02055765874683857, 0.013469765894114971, -0.043662529438734055, -0.006198445800691843, 0.0010979658691212535, -0.03435967117547989, 0.02219119668006897, 0.004308802075684071, -0.0258735790848732, -0.007544729858636856, 0.005416285712271929, -0.019076399505138397, -0.009745853021740913, -0.009877366945147514, -0.0177058894187212, 0.0025056810118258, 0.0261366069316864, -0.006208828184753656, -0.006329959258437157, 0.013788167387247086, -0.0096697136759758, 0.012085411697626114, -0.004180749412626028, 0.009891210123896599, -0.0009759696549735963, -0.01391275878995657, 0.013746636919677258, 0.011683949269354343, 0.005284771788865328, -0.017401332035660744, 0.016252318397164345, 0.010714900679886341, -0.006509925238788128, -0.02363092452287674, 0.0008552712970413268, 0.003931565675884485, -0.022440381348133087, 0.007558573503047228, -0.024032387882471085, 0.02174820378422737, -0.007226328831166029, 0.006541073322296143, 0.0212359931319952, 0.028711505234241486, -0.006309194024652243, 0.0014847198035567999, -0.03809742629528046, -0.04164137318730354, -0.009399764239788055, -0.035467151552438736, -0.005713921505957842, 0.0302896685898304, -0.007793913595378399, -0.028988376259803772, -0.018494971096515656, -0.02270340733230114, -0.005983870942145586, 0.0070290579460561275, 0.0005948396865278482, 0.0013082146178930998, 0.012978320010006428, 0.005537416320294142, -0.009240563958883286, -0.015255582518875599, -0.01194697618484497, -0.006817944347858429, 0.02475225180387497, 0.006963301450014114, 0.012673761695623398, -0.027133341878652573, 0.009835836477577686, 0.011600887402892113, -0.009628183208405972, -0.006312654819339514, 0.018356535583734512, 0.007883897051215172, 0.021249836310744286, 0.014494188129901886, 0.017152147367596626, -0.014286534860730171, -0.016058508306741714, 0.001219096826389432, 0.005658547393977642, 0.03330755978822708, 0.016058508306741714, -0.02113908715546131, 0.006717578507959843, 0.0160723514854908, 0.022523442283272743, -0.003713530022650957, -0.020003916695713997, -0.0014224238693714142, -0.009565887041389942, 0.002907143672928214, -0.018688781186938286, 0.0031372925732284784, -0.011850071139633656, -0.017719732597470284, 0.017152147367596626, 0.0186749380081892, 0.010451873764395714, 0.028933001682162285, -0.02433694526553154, 0.004568368662148714, 0.0002641088212840259, 0.016030820086598396, -0.017470549792051315, 0.008043097332119942, -0.0029555961955338717, -0.04501919820904732, 0.012493795715272427, 0.011164816096425056, -0.02648269385099411, -0.0108394930139184, 0.01245918683707714, -0.004602977540344, 0.022232728078961372, 0.006717578507959843, 0.007219406776130199, 0.0024364632554352283, -0.019893169403076172, -0.0008570017525926232, -0.008582995273172855, -0.02484915591776371, -0.003023083321750164, -0.023658612743020058, 0.007960036396980286, 0.0037827477790415287, 0.008174611255526543, -0.008707587607204914, -0.027493273839354515, -0.023769360035657883, 0.0010503786616027355, 0.01614156924188137, 0.019671672955155373, 0.04166905954480171, 0.22947053611278534, 0.0033743632957339287, 0.0011351703433319926, 0.0037031474057585, -0.009517434984445572, 0.004793326370418072, 0.02901606261730194, 0.008513777516782284, -0.007773148361593485, -0.016127726063132286, -0.005367833189666271, -0.019768577069044113, 0.013386704958975315, 0.004281115252524614, 0.000725055462680757, 0.004661812447011471, -0.04861851781606674, -0.019782420247793198, -0.03089878521859646, -0.001187948859296739, 0.006253819912672043, 0.004114992450922728, -0.012909102253615856, -0.016390753909945488, 0.02804701402783394, 0.0124730309471488, 0.0006822270224802196, 0.03148021176457405, -0.006028862204402685, 0.0014821240911260247, -0.0037169908173382282, -0.009122894145548344, 0.012666840106248856, 0.0005918113747611642, -0.004855622071772814, -0.009199033491313457, -5.2237737691029906e-05, -0.004146140534430742, 0.004229201935231686, 0.010417264886200428, 0.02343711629509926, -0.022744938731193542, -0.02523677609860897, -0.028933001682162285, -0.022564971819519997, 0.0067729526199400425, 0.006939074955880642, -0.028157763183116913, 0.0020280787721276283, 0.01146245189011097, -0.022301945835351944, -0.024004701524972916, 0.0392049103975296, 0.02129136584699154, -0.024253884330391884, -0.013282878324389458, 0.0093167033046484, -0.007489355746656656, -0.012618388049304485, 0.01626616157591343, -0.02226041443645954, 0.014812589623034, 0.0051013450138270855, -0.01043803058564663, -0.03084341064095497, 0.04537912830710411, 0.0055893296375870705, -0.012895259074866772, 0.028545381501317024, -0.006575682200491428, 0.001052109175361693, 0.01358051411807537, 0.03294762969017029, 0.011490139178931713, -0.006862935610115528, -0.020543815568089485, 0.024516912177205086, 0.0018394605722278357, 0.018301161006093025, 0.00024334350018762052, -0.006426864303648472, -0.004862544126808643, -0.008257672190666199, -0.0018152343109250069, -0.015061773359775543, -0.04726184904575348, -0.004468002822250128, 0.01373971439898014, -0.04515763372182846, -0.009406686760485172, 0.022883374243974686, 0.0011628575157374144, 0.004803708754479885, -0.01582316868007183, -0.010119629092514515, -0.015490923076868057, -0.001481258892454207, 0.042222801595926285, -0.011628574691712856, -0.007842366583645344, -0.0121200205758214, 0.04086613282561302, 0.022121978923678398, -0.001385219395160675, -0.018038135021924973, 0.029763614758849144, -0.014051194302737713, 0.024101605638861656, 0.006679508835077286, -0.0008120101992972195, 0.010576465167105198, -0.04947681725025177, -0.010832571424543858, -0.010631839744746685, -0.0038934960030019283, 0.0033795544877648354, -0.020377693697810173, -0.006710656452924013, 0.0186334066092968, -0.013220582157373428, 0.023464802652597427, -0.0032913018949329853, -0.0024122369941323996, -0.00880449265241623, -0.011407078243792057, 0.007600104436278343, -0.015518609434366226, -0.022717250511050224, -0.0181904137134552, -0.03859579190611839, 0.007634712848812342, 0.011697792448103428, 0.002308410592377186, -0.014085803180932999, -0.014674154110252857, 0.025610551238059998, 0.011171737685799599, -0.017622828483581543, 0.022468067705631256, -0.011836227960884571, 0.00903291068971157, 0.006759108975529671, 0.014411126263439655, -0.009794305078685284, 4.915538738714531e-05, -0.028490008786320686, -0.030732661485671997, -0.019713202491402626, -0.01831500604748726, -0.02862844429910183, -0.014341908507049084, -0.04006320983171463, -0.014674154110252857, -0.004191132262349129, 0.005907731130719185, 0.0026821861974895, -0.002979822224006057, -0.032587695866823196, -0.0026198902633041143, 0.03186783194541931, -0.004938683472573757, -0.0018654172308743, 0.040395453572273254, -0.01735980063676834, -0.023866266012191772, -0.016736840829253197, -0.17697583138942719, 0.012182316742837429, 0.020405380055308342, -0.03901109844446182, 0.011074832640588284, 0.01402350701391697, -0.005561642814427614, 0.0005139414570294321, -0.03195089474320412, 0.007129423785954714, 0.013061380945146084, 0.0062918895855546, -0.0452130064368248, -0.015366330742835999, -0.007254015654325485, 0.011116364039480686, -0.003040387760847807, 0.016446126624941826, 0.011054067872464657, 0.018148882314562798, 0.040755387395620346, -0.0033449456095695496, 0.01472952775657177, -0.013608201406896114, -0.01755361072719097, -0.03352905809879303, -0.012860650196671486, -0.003189205890521407, -0.011856992729008198, -0.019394801929593086, -0.011185581795871258, 0.032393887639045715, 0.014521874487400055, 0.001515002571977675, 0.025707457214593887, 0.0083891861140728, 0.0179689172655344, -0.0017477470682933927, 0.008672978729009628, 0.006146532483398914, 0.015615514479577541, 0.04125375300645828, -0.0012035229010507464, 0.007537808269262314, 0.008762961253523827, 0.024863000959157944, 0.005765834823250771, 0.009642026387155056, 0.015781637281179428, -0.0010642221895977855, -0.005845435429364443, 0.0017079468816518784, -0.021831264719367027, 0.007946192286908627, 0.0075170430354774, 0.0126045448705554, 0.021609768271446228, 0.02904374897480011, -0.010541857220232487, -0.010354968719184399, 0.003196127712726593, -0.024572286754846573, 0.022177353501319885, -0.004488768521696329, -0.042914979159832, 0.017636671662330627, 0.0041945930570364, 0.0054197465069592, -0.017235208302736282, 0.004551064223051071, -0.04205667972564697, 0.0035266422200948, 0.0030888402834534645, -0.021734360605478287, 0.0007536077755503356, 0.001423289068043232, 0.004741413053125143, 0.013296721503138542, 0.0038623481523245573, 0.006586064584553242, 0.005928496364504099, 0.040340080857276917, -0.010008880868554115, 0.0298466756939888, -0.020294630900025368, 0.0115455137565732, -0.024004701524972916, 0.0074547468684613705, -4.204435026622377e-05, -0.0036893037613481283, 0.050611987709999084, -0.007254015654325485, -0.04341334477066994, -0.007343998644500971, 0.006776413414627314, 0.025001436471939087, 0.011185581795871258, 0.008596839383244514, 0.006586064584553242, -0.022371163591742516, 0.015075616538524628, -0.0034158937633037567, -0.002318793209269643, -0.010140393860638142, 0.043274909257888794, 0.0005256219883449376, -0.015352487564086914, 0.022911060601472855, 0.023769360035657883, -0.015504766255617142, -0.011801619082689285, 0.0006337746162898839, 0.01789969950914383, 0.021665142849087715, 0.00041552254697307944, 0.0193394273519516, 0.003139022970572114, 0.010299595072865486, -0.015643201768398285, 0.00244511547498405, 0.01760898530483246, -0.004215358290821314, 0.011697792448103428, -0.017692046239972115, -0.0006999640609137714, 0.01950554922223091, -0.11384928226470947, -0.033833615481853485, -0.0024572284892201424, -0.007786992006003857, -0.011296330019831657, 0.001970974262803793, 0.002090374706313014, 0.014646466821432114, -0.013269034214317799, 0.004395324271172285, -0.01931174099445343, -0.02741021104156971, 0.005796982906758785, 0.011580122634768486, -0.020100822672247887, 0.03184014558792114, 0.004945605061948299, -0.0068214051425457, 0.006478777155280113, 0.012507639825344086, 0.016543032601475716, -0.019547080621123314, -0.0019311740761622787, 0.0004793326079379767, -0.005841974634677172, -0.009323624894022942, -0.015158677473664284, 0.008458403870463371, 0.027147185057401657, 0.007198641542345285, -0.0011957358801737428, -0.015795480459928513, 0.0014570327475667, 0.021623611450195312, -0.0041115316562354565, 0.000997600145637989, 0.0007090488797985017, -0.021111400797963142, 0.014854120090603828, -0.003772364929318428, 0.005416285712271929, -0.027368681505322456, 0.004737952258437872, -0.013054459355771542, 0.002393202157691121, 0.00854838639497757, -0.017345957458019257, 0.009115971624851227, 0.018744155764579773, 0.006402637809514999, -0.01918714866042137, 0.015712419524788857, -0.029099123552441597, -0.017221365123987198, -0.003806973807513714, -0.0033657110761851072, 0.0069079273380339146, 0.006257280707359314, -0.003928104881197214, 0.009482826106250286, 0.021180618554353714, -0.01241073478013277, -0.008908319287002087, 0.012971398420631886, 0.017636671662330627, 0.029597491025924683, -0.015214052051305771, -0.018467284739017487, 0.0026371947024017572, -0.009330546483397484, -0.009385921061038971, -0.00663797790184617, -0.02343711629509926, -0.0007730752695351839, -0.01110944151878357, -0.006278045941144228, -0.022592660039663315, -0.009870445355772972, -0.0059181139804422855, -0.012722214683890343, -0.020571501925587654, -0.017332114279270172, 0.019159460440278053, -0.01648765802383423, 0.015518609434366226, 0.0007553382311016321, 0.007330155000090599, 0.02170667238533497, 0.00033484064624644816, -0.044299330562353134, -0.018356535583734512, 0.018328849226236343, 0.010029645636677742, -0.004859082866460085, 0.0022478450555354357, 0.0018117735162377357, -0.014355752617120743, 0.017927385866642, 0.01675068587064743, -0.00030953294481150806, -0.016736840829253197, -0.00317882327362895, -0.06373566389083862, 0.018148882314562798, -0.005049431696534157, 0.015310957096517086, -0.009704322554171085, 0.004014627076685429, 0.02299412153661251, -0.02270340733230114, -0.008465325459837914, 0.00010663853026926517, -0.005980409681797028, 0.027271777391433716, -0.022551128640770912, 0.013317487202584743, 0.011531669646501541, -0.0018117735162377357, 0.04213973879814148, -0.006354185286909342, 0.008223063312470913, 0.016612250357866287, -0.006350724492222071, -0.009102128446102142, 0.01921483501791954, -0.005925035569816828, 0.023257149383425713, 0.0008011949830688536, 0.0065376125276088715, 0.03474728763103485, -0.01924252323806286, -0.03347368165850639, 0.009378999471664429, -0.02170667238533497, -0.021637454628944397, 0.0433579720556736, -0.025665925815701485, -0.002991935471072793, 0.014854120090603828, 0.009378999471664429, 0.019477862864732742, 0.02840694598853588, 0.0020678790751844645, -0.025707457214593887, 0.023146402090787888, -0.020959122106432915, 0.013808932155370712, -0.000786486198194325, -0.01288833748549223, -0.0038242782466113567, -0.017692046239972115, -0.004696421325206757, 0.020474597811698914, 0.012196159921586514, -0.02709181047976017, -0.03491340950131416, -0.011330938898026943, -0.021111400797963142, -0.011808540672063828, -0.0116562619805336, -0.02677340991795063, -0.03106490708887577, 0.025278305634856224, -0.0015963333426043391, 0.02606738917529583, -0.014674154110252857, 0.008922162465751171, -0.02321561798453331, 0.02196970023214817, 0.026205824688076973, 0.050999607890844345, -0.03926028311252594, -0.02338174171745777, 0.025126026943325996, -0.011054067872464657, 0.008652213029563427, 0.02007313445210457, 0.023935483768582344, 0.0036893037613481283, 0.010216533206403255, -0.023589394986629486, 0.025250619277358055, 0.018619563430547714, -0.03698994219303131, -0.0008799300994724035, 0.006838709581643343, 0.015103303827345371, 0.021249836310744286, -0.012680684216320515, 0.010299595072865486, -0.015906229615211487, -0.0067729526199400425, -0.012722214683890343, 0.01882721669971943, 0.0191179309040308, 0.007468590512871742, -0.024073919281363487, 0.014480344019830227, -0.028573069721460342, 0.016515344381332397, 0.03148021176457405, 0.041198380291461945, 0.005814287345856428, 0.010894866660237312, -0.004433393944054842, -0.032421573996543884, -0.03289225324988365, -0.0007994645275175571, -0.030317354947328568, -0.04205667972564697, -0.005353989545255899, 0.013746636919677258, 0.004641047213226557, -0.0076693217270076275, 0.014715684577822685, 0.02084837295114994, -0.012092333287000656, 0.014009663835167885, 0.002716795075684786, -0.03319681063294411, -0.028226980939507484, -0.006710656452924013, 0.009441295638680458, 0.0009058867581188679, -0.009967349469661713, -0.0022530362475663424, 0.03438735753297806, -0.003199588507413864, 0.015961602330207825, -0.009538199752569199, 0.006901005282998085, -0.025998171418905258, -0.002741021104156971, -0.012445343658328056, -0.05338069424033165, -0.0284346342086792, -0.012085411697626114, 0.004748334642499685, -0.0068214051425457, -0.0038865741807967424, 0.0011957358801737428, 0.06401253491640091, 0.03840198367834091, 0.005855817813426256, -0.00035625489545054734, 0.016736840829253197, -0.0010555700864642859, 0.007042901590466499, -0.017442861571907997, -0.011794697493314743, -0.03471960127353668, 0.03375055268406868, 0.0040284707210958, 0.018079664558172226, -0.007752383127808571, -0.026621129363775253, 0.008527621626853943, -0.010583387687802315, -0.005686234682798386, 0.0006030592485330999, -0.0005476850783452392, 0.022108135744929314, 0.017636671662330627, -0.008762961253523827, 0.012438422068953514, -0.015255582518875599, 0.01799660362303257, 0.03131408989429474, -0.006136149633675814, -0.020405380055308342, -0.022329632192850113, 0.011856992729008198, -0.01066644862294197, -0.025707457214593887, -0.0060046361759305, 0.003741217078641057, -0.002741021104156971, -0.015767794102430344, -0.006378411781042814, -0.011178659275174141, 0.00305769219994545, -0.01420347299426794, -0.0043710982427001, -0.02334021031856537, -0.0142173171043396, 0.008430716581642628, 0.0020159657578915358, -0.016390753909945488, -0.003890035208314657, 5.02909897477366e-05]\n"
          ]
        }
      ]
    },
    {
      "cell_type": "code",
      "source": [
        "import oracledb\n",
        "import array\n",
        "\n",
        "# setar a fetch_lobs para False para retornar o CLOB como texto\n",
        "oracledb.defaults.fetch_lobs = False\n",
        "\n",
        "# conexão\n",
        "conn = oracledb.connect(user=DB_USER,\n",
        "                        password=DB_PASSWORD,\n",
        "                        dsn=CONNECT_STRING,\n",
        "                        config_dir=\"/content/wallet\",\n",
        "                        wallet_location=\"/content/wallet\",\n",
        "                        wallet_password=WALLET_PASSWORD )\n",
        "\n",
        "# Transformar o vetor em array float32 para a bind variable\n",
        "vector_arr = array.array(\"f\", vector)\n",
        "\n",
        "cursor = conn.cursor()\n",
        "\n",
        "sql = f\"\"\"\n",
        "SELECT text,\n",
        "       JSON_VALUE(metadata, '$.source') AS source,\n",
        "       vector_distance(embedding, TO_VECTOR(:vec), EUCLIDEAN) as distance\n",
        "FROM \"ORACLE_DOCS\"\n",
        "ORDER BY distance\n",
        "FETCH APPROX FIRST 5 ROWS ONLY\n",
        "\"\"\"\n",
        "\n",
        "# execução do SQL repassando o vetor para a bind\n",
        "cursor.execute(sql, {\"vec\": vector_arr})\n",
        "\n",
        "rows = cursor.fetchall()\n",
        "for row in rows:\n",
        "    print(f'Texto:     {row[0][:200]}')\n",
        "    print(f'Fonte:     {row[1]}')\n",
        "    print(f'Distancia: {row[2]}')\n",
        "    print('\\n')\n"
      ],
      "metadata": {
        "colab": {
          "base_uri": "https://localhost:8080/"
        },
        "id": "9O-8rIT37D-7",
        "outputId": "b4e1acde-414f-4cd8-852f-14d00f234b10"
      },
      "execution_count": 43,
      "outputs": [
        {
          "output_type": "stream",
          "name": "stdout",
          "text": [
            "Texto:     The Roles page appears.\n",
            "3. Click Create.\n",
            "If prompted, enter your login information. Afterward, the Create Role page appears.\n",
            "4. Select the options that create a local role and grant this role privileg\n",
            "Fonte:     /content/pdfs/database-security-guide.pdf\n",
            "Distancia: 0.5576545081534936\n",
            "\n",
            "\n",
            "Texto:     the privileges were\n",
            "granted to the role\n",
            "locally or commonly)\n",
            "Y es\n",
            "Local Role N/A Y es (but privileges in this\n",
            "role are available to the\n",
            "grantee only in the\n",
            "container in which the\n",
            "role was granted and\n",
            "\n",
            "Fonte:     /content/pdfs/database-security-guide.pdf\n",
            "Distancia: 0.5799796056090671\n",
            "\n",
            "\n",
            "Texto:     If prompted, enter your login information. Afterward, the Roles page appears, showing only\n",
            "local roles for the current PDB and common roles.\n",
            "3. Select the local role to be edited and then click Edit.\n",
            "\n",
            "Fonte:     /content/pdfs/database-security-guide.pdf\n",
            "Distancia: 0.5824348471288748\n",
            "\n",
            "\n",
            "Texto:     Local users, roles, and privileges are restricted to a particular PDB. Thus, local users may not\n",
            "grant roles and privileges commonly, and local roles and privileges may not be granted\n",
            "commonly.\n",
            "The fo\n",
            "Fonte:     /content/pdfs/database-security-guide.pdf\n",
            "Distancia: 0.5915021571674658\n",
            "\n",
            "\n",
            "Texto:     3. On the Create Role page, provide the following details, and then click OK:\n",
            "• Select the policy from which you would like to create a new role.\n",
            "• Enter a unique name for the new role that you want t\n",
            "Fonte:     /content/pdfs/database-security-guide.pdf\n",
            "Distancia: 0.6139181498857016\n",
            "\n",
            "\n"
          ]
        }
      ]
    }
  ]
}